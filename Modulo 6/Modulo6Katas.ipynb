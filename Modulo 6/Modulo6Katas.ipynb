{
 "cells": [
  {
   "cell_type": "markdown",
   "metadata": {},
   "source": [
    "## Listas"
   ]
  },
  {
   "cell_type": "code",
   "execution_count": 4,
   "metadata": {},
   "outputs": [
    {
     "name": "stdout",
     "output_type": "stream",
     "text": [
      "['mercurio', 'venus', 'tierra', 'marte', 'jupiter', 'saturno', 'neptuno', 'urano']\n",
      "['mercurio', 'venus', 'tierra', 'marte', 'jupiter', 'saturno', 'neptuno', 'urano', 'pluto']\n",
      "9\n"
     ]
    }
   ],
   "source": [
    "planets = [\"mercurio\", \"venus\", \"tierra\", \"marte\",\"jupiter\",\"saturno\",\"neptuno\",\"urano\"]\n",
    "print(planets)\n",
    "planets.append(\"pluto\")\n",
    "print(planets)\n",
    "print(len(planets))\n",
    "\n"
   ]
  },
  {
   "cell_type": "code",
   "execution_count": null,
   "metadata": {},
   "outputs": [],
   "source": [
    "planets = ['Mercury', 'Venus', 'Earth', 'Mars', 'Jupiter', 'Saturn', 'Neptune']\n",
    "planet = input( \"Inserta planeta:\" )\n",
    "planetX = planets.index(planet)\n",
    "if(planetX > -1):\n",
    "    print(\"El indice del planeta es: \", planetX)\n",
    "    print(\"Los planetas mas cercanos desde {planet} son: \", planets[:planetX] )\n",
    "    print(\"Los planetas mas lejanos desde {planet} son: \", planets[planetX+1:] )\n",
    "else:\n",
    "    print(\"Planeta no encontrado\")\n",
    "\n"
   ]
  }
 ],
 "metadata": {
  "interpreter": {
   "hash": "e7370f93d1d0cde622a1f8e1c04877d8463912d04d973331ad4851f04de6915a"
  },
  "kernelspec": {
   "display_name": "Python 3.9.2 64-bit",
   "language": "python",
   "name": "python3"
  },
  "language_info": {
   "codemirror_mode": {
    "name": "ipython",
    "version": 3
   },
   "file_extension": ".py",
   "mimetype": "text/x-python",
   "name": "python",
   "nbconvert_exporter": "python",
   "pygments_lexer": "ipython3",
   "version": "3.9.10"
  },
  "orig_nbformat": 4
 },
 "nbformat": 4,
 "nbformat_minor": 2
}
