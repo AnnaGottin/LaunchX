{
 "cells": [
  {
   "cell_type": "code",
   "execution_count": null,
   "metadata": {},
   "outputs": [],
   "source": []
  },
  {
   "cell_type": "markdown",
   "metadata": {},
   "source": [
    "## Sistema de Alerta"
   ]
  },
  {
   "cell_type": "code",
   "execution_count": 5,
   "metadata": {},
   "outputs": [
    {
     "name": "stdout",
     "output_type": "stream",
     "text": [
      "Asteroide demasiado rapido, desacelere!\n"
     ]
    }
   ],
   "source": [
    "vel = 49\n",
    "if vel > 25:\n",
    "    print(\"Asteroide demasiado rapido, desacelere!\")\n",
    "else:\n",
    "    print(\"Nada que ver\")\n"
   ]
  },
  {
   "cell_type": "code",
   "execution_count": 6,
   "metadata": {},
   "outputs": [
    {
     "name": "stdout",
     "output_type": "stream",
     "text": [
      "~~~\n"
     ]
    }
   ],
   "source": [
    "vel = 19\n",
    "if vel > 20:\n",
    "    print(\"Asteoriode Visible, busque el cielo mas cercano\")\n",
    "elif vel == 20:\n",
    "    print(\"Asteoriode Visible, busque el cielo mas cercano\")\n",
    "else:\n",
    "    print(\"~~~\")"
   ]
  },
  {
   "cell_type": "code",
   "execution_count": 7,
   "metadata": {},
   "outputs": [
    {
     "name": "stdout",
     "output_type": "stream",
     "text": [
      "Asteroide Visible, busque el cielo mas cercano\n"
     ]
    }
   ],
   "source": [
    "vel = 25\n",
    "tam = 40\n",
    "if vel > 25 and tam > 25:\n",
    "    print(\"Bace for impact\")\n",
    "elif vel >= 20:\n",
    "    print(\"Asteroide Visible, busque el cielo mas cercano\")\n",
    "elif tam < 25:\n",
    "    print(\"~~~~\")\n",
    "else:\n",
    "    print(\"~~~~\")\n"
   ]
  }
 ],
 "metadata": {
  "interpreter": {
   "hash": "e7370f93d1d0cde622a1f8e1c04877d8463912d04d973331ad4851f04de6915a"
  },
  "kernelspec": {
   "display_name": "Python 3.9.2 64-bit",
   "language": "python",
   "name": "python3"
  },
  "language_info": {
   "codemirror_mode": {
    "name": "ipython",
    "version": 3
   },
   "file_extension": ".py",
   "mimetype": "text/x-python",
   "name": "python",
   "nbconvert_exporter": "python",
   "pygments_lexer": "ipython3",
   "version": "3.9.10"
  },
  "orig_nbformat": 4
 },
 "nbformat": 4,
 "nbformat_minor": 2
}
