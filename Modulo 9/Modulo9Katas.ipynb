{
 "cells": [
  {
   "cell_type": "markdown",
   "metadata": {},
   "source": [
    "## Funciones"
   ]
  },
  {
   "cell_type": "code",
   "execution_count": 13,
   "metadata": {},
   "outputs": [
    {
     "name": "stdout",
     "output_type": "stream",
     "text": [
      " Promedio: 7.666666666666667\n",
      "    Lectura Tanque 1: 5\n",
      "    Lectura Tanque 2: 8\n",
      "    Lectura Tanque 3: 10\n",
      "    \n"
     ]
    }
   ],
   "source": [
    "def promedio(t1, t2, t3):\n",
    "    return (t1+t2+t3)/3\n",
    "\n",
    "def informes(t1, t2, t3):\n",
    "    return f\"\"\" Promedio: {promedio(t1,t2,t3) }\n",
    "    Lectura Tanque 1: {t1}\n",
    "    Lectura Tanque 2: {t2}\n",
    "    Lectura Tanque 3: {t3}\n",
    "    \"\"\"\n",
    "\n",
    "print(informes(5,8,10))"
   ]
  },
  {
   "cell_type": "code",
   "execution_count": 14,
   "metadata": {},
   "outputs": [
    {
     "name": "stdout",
     "output_type": "stream",
     "text": [
      "\n",
      "    Destino: Moon\n",
      "    Tiempo de vuelo: 6\n",
      "    Total de combustible: 45\n",
      "    \n"
     ]
    }
   ],
   "source": [
    "def informe(destino, *time  ,**fuel_reservoirs):\n",
    "    return f\"\"\"\n",
    "    Destino: {destino}\n",
    "    Tiempo de vuelo: {sum(time)}\n",
    "    Total de combustible: {sum(fuel_reservoirs.values() )}\n",
    "    \"\"\"\n",
    "\n",
    "print(informe('Moon', 1,2,3, t1=10,t2=15,t3=20   )  )"
   ]
  }
 ],
 "metadata": {
  "interpreter": {
   "hash": "e7370f93d1d0cde622a1f8e1c04877d8463912d04d973331ad4851f04de6915a"
  },
  "kernelspec": {
   "display_name": "Python 3.9.2 64-bit",
   "language": "python",
   "name": "python3"
  },
  "language_info": {
   "codemirror_mode": {
    "name": "ipython",
    "version": 3
   },
   "file_extension": ".py",
   "mimetype": "text/x-python",
   "name": "python",
   "nbconvert_exporter": "python",
   "pygments_lexer": "ipython3",
   "version": "3.9.10"
  },
  "orig_nbformat": 4
 },
 "nbformat": 4,
 "nbformat_minor": 2
}
